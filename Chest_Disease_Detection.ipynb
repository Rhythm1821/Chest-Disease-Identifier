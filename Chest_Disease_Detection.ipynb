{
  "nbformat": 4,
  "nbformat_minor": 0,
  "metadata": {
    "colab": {
      "provenance": [],
      "authorship_tag": "ABX9TyPO0hqQ4UaKdARV6/dMlzXD",
      "include_colab_link": true
    },
    "kernelspec": {
      "name": "python3",
      "display_name": "Python 3"
    },
    "language_info": {
      "name": "python"
    }
  },
  "cells": [
    {
      "cell_type": "markdown",
      "metadata": {
        "id": "view-in-github",
        "colab_type": "text"
      },
      "source": [
        "<a href=\"https://colab.research.google.com/github/Rhythm1821/Chest-Disease-Identifier/blob/main/Chest_Disease_Detection.ipynb\" target=\"_parent\"><img src=\"https://colab.research.google.com/assets/colab-badge.svg\" alt=\"Open In Colab\"/></a>"
      ]
    },
    {
      "cell_type": "markdown",
      "source": [
        "### 1 Import dependencies"
      ],
      "metadata": {
        "id": "gTyW0Qz08UzN"
      }
    },
    {
      "cell_type": "code",
      "source": [],
      "metadata": {
        "id": "-TwQFpob9P4D"
      },
      "execution_count": null,
      "outputs": []
    }
  ]
}